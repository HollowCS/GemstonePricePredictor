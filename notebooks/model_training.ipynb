{
 "cells": [
  {
   "attachments": {},
   "cell_type": "markdown",
   "metadata": {},
   "source": [
    "MODEL TRAINING"
   ]
  },
  {
   "cell_type": "code",
   "execution_count": 1,
   "metadata": {},
   "outputs": [],
   "source": [
    "import pandas as pd"
   ]
  },
  {
   "cell_type": "code",
   "execution_count": 2,
   "metadata": {},
   "outputs": [],
   "source": [
    "data = pd.read_csv(\"https://raw.githubusercontent.com/krishnaik06/FSDSRegression/main/notebooks/data/gemstone.csv\")"
   ]
  },
  {
   "cell_type": "code",
   "execution_count": 3,
   "metadata": {},
   "outputs": [
    {
     "data": {
      "text/html": [
       "<div>\n",
       "<style scoped>\n",
       "    .dataframe tbody tr th:only-of-type {\n",
       "        vertical-align: middle;\n",
       "    }\n",
       "\n",
       "    .dataframe tbody tr th {\n",
       "        vertical-align: top;\n",
       "    }\n",
       "\n",
       "    .dataframe thead th {\n",
       "        text-align: right;\n",
       "    }\n",
       "</style>\n",
       "<table border=\"1\" class=\"dataframe\">\n",
       "  <thead>\n",
       "    <tr style=\"text-align: right;\">\n",
       "      <th></th>\n",
       "      <th>id</th>\n",
       "      <th>carat</th>\n",
       "      <th>cut</th>\n",
       "      <th>color</th>\n",
       "      <th>clarity</th>\n",
       "      <th>depth</th>\n",
       "      <th>table</th>\n",
       "      <th>x</th>\n",
       "      <th>y</th>\n",
       "      <th>z</th>\n",
       "      <th>price</th>\n",
       "    </tr>\n",
       "  </thead>\n",
       "  <tbody>\n",
       "    <tr>\n",
       "      <th>0</th>\n",
       "      <td>0</td>\n",
       "      <td>1.52</td>\n",
       "      <td>Premium</td>\n",
       "      <td>F</td>\n",
       "      <td>VS2</td>\n",
       "      <td>62.2</td>\n",
       "      <td>58.0</td>\n",
       "      <td>7.27</td>\n",
       "      <td>7.33</td>\n",
       "      <td>4.55</td>\n",
       "      <td>13619</td>\n",
       "    </tr>\n",
       "    <tr>\n",
       "      <th>1</th>\n",
       "      <td>1</td>\n",
       "      <td>2.03</td>\n",
       "      <td>Very Good</td>\n",
       "      <td>J</td>\n",
       "      <td>SI2</td>\n",
       "      <td>62.0</td>\n",
       "      <td>58.0</td>\n",
       "      <td>8.06</td>\n",
       "      <td>8.12</td>\n",
       "      <td>5.05</td>\n",
       "      <td>13387</td>\n",
       "    </tr>\n",
       "    <tr>\n",
       "      <th>2</th>\n",
       "      <td>2</td>\n",
       "      <td>0.70</td>\n",
       "      <td>Ideal</td>\n",
       "      <td>G</td>\n",
       "      <td>VS1</td>\n",
       "      <td>61.2</td>\n",
       "      <td>57.0</td>\n",
       "      <td>5.69</td>\n",
       "      <td>5.73</td>\n",
       "      <td>3.50</td>\n",
       "      <td>2772</td>\n",
       "    </tr>\n",
       "    <tr>\n",
       "      <th>3</th>\n",
       "      <td>3</td>\n",
       "      <td>0.32</td>\n",
       "      <td>Ideal</td>\n",
       "      <td>G</td>\n",
       "      <td>VS1</td>\n",
       "      <td>61.6</td>\n",
       "      <td>56.0</td>\n",
       "      <td>4.38</td>\n",
       "      <td>4.41</td>\n",
       "      <td>2.71</td>\n",
       "      <td>666</td>\n",
       "    </tr>\n",
       "    <tr>\n",
       "      <th>4</th>\n",
       "      <td>4</td>\n",
       "      <td>1.70</td>\n",
       "      <td>Premium</td>\n",
       "      <td>G</td>\n",
       "      <td>VS2</td>\n",
       "      <td>62.6</td>\n",
       "      <td>59.0</td>\n",
       "      <td>7.65</td>\n",
       "      <td>7.61</td>\n",
       "      <td>4.77</td>\n",
       "      <td>14453</td>\n",
       "    </tr>\n",
       "  </tbody>\n",
       "</table>\n",
       "</div>"
      ],
      "text/plain": [
       "   id  carat        cut color clarity  depth  table     x     y     z  price\n",
       "0   0   1.52    Premium     F     VS2   62.2   58.0  7.27  7.33  4.55  13619\n",
       "1   1   2.03  Very Good     J     SI2   62.0   58.0  8.06  8.12  5.05  13387\n",
       "2   2   0.70      Ideal     G     VS1   61.2   57.0  5.69  5.73  3.50   2772\n",
       "3   3   0.32      Ideal     G     VS1   61.6   56.0  4.38  4.41  2.71    666\n",
       "4   4   1.70    Premium     G     VS2   62.6   59.0  7.65  7.61  4.77  14453"
      ]
     },
     "execution_count": 3,
     "metadata": {},
     "output_type": "execute_result"
    }
   ],
   "source": [
    "data.head()"
   ]
  },
  {
   "cell_type": "code",
   "execution_count": 4,
   "metadata": {},
   "outputs": [],
   "source": [
    "data = data.drop(labels=[\"id\"], axis=1)"
   ]
  },
  {
   "cell_type": "code",
   "execution_count": 5,
   "metadata": {},
   "outputs": [
    {
     "data": {
      "text/html": [
       "<div>\n",
       "<style scoped>\n",
       "    .dataframe tbody tr th:only-of-type {\n",
       "        vertical-align: middle;\n",
       "    }\n",
       "\n",
       "    .dataframe tbody tr th {\n",
       "        vertical-align: top;\n",
       "    }\n",
       "\n",
       "    .dataframe thead th {\n",
       "        text-align: right;\n",
       "    }\n",
       "</style>\n",
       "<table border=\"1\" class=\"dataframe\">\n",
       "  <thead>\n",
       "    <tr style=\"text-align: right;\">\n",
       "      <th></th>\n",
       "      <th>carat</th>\n",
       "      <th>cut</th>\n",
       "      <th>color</th>\n",
       "      <th>clarity</th>\n",
       "      <th>depth</th>\n",
       "      <th>table</th>\n",
       "      <th>x</th>\n",
       "      <th>y</th>\n",
       "      <th>z</th>\n",
       "      <th>price</th>\n",
       "    </tr>\n",
       "  </thead>\n",
       "  <tbody>\n",
       "    <tr>\n",
       "      <th>0</th>\n",
       "      <td>1.52</td>\n",
       "      <td>Premium</td>\n",
       "      <td>F</td>\n",
       "      <td>VS2</td>\n",
       "      <td>62.2</td>\n",
       "      <td>58.0</td>\n",
       "      <td>7.27</td>\n",
       "      <td>7.33</td>\n",
       "      <td>4.55</td>\n",
       "      <td>13619</td>\n",
       "    </tr>\n",
       "    <tr>\n",
       "      <th>1</th>\n",
       "      <td>2.03</td>\n",
       "      <td>Very Good</td>\n",
       "      <td>J</td>\n",
       "      <td>SI2</td>\n",
       "      <td>62.0</td>\n",
       "      <td>58.0</td>\n",
       "      <td>8.06</td>\n",
       "      <td>8.12</td>\n",
       "      <td>5.05</td>\n",
       "      <td>13387</td>\n",
       "    </tr>\n",
       "    <tr>\n",
       "      <th>2</th>\n",
       "      <td>0.70</td>\n",
       "      <td>Ideal</td>\n",
       "      <td>G</td>\n",
       "      <td>VS1</td>\n",
       "      <td>61.2</td>\n",
       "      <td>57.0</td>\n",
       "      <td>5.69</td>\n",
       "      <td>5.73</td>\n",
       "      <td>3.50</td>\n",
       "      <td>2772</td>\n",
       "    </tr>\n",
       "    <tr>\n",
       "      <th>3</th>\n",
       "      <td>0.32</td>\n",
       "      <td>Ideal</td>\n",
       "      <td>G</td>\n",
       "      <td>VS1</td>\n",
       "      <td>61.6</td>\n",
       "      <td>56.0</td>\n",
       "      <td>4.38</td>\n",
       "      <td>4.41</td>\n",
       "      <td>2.71</td>\n",
       "      <td>666</td>\n",
       "    </tr>\n",
       "    <tr>\n",
       "      <th>4</th>\n",
       "      <td>1.70</td>\n",
       "      <td>Premium</td>\n",
       "      <td>G</td>\n",
       "      <td>VS2</td>\n",
       "      <td>62.6</td>\n",
       "      <td>59.0</td>\n",
       "      <td>7.65</td>\n",
       "      <td>7.61</td>\n",
       "      <td>4.77</td>\n",
       "      <td>14453</td>\n",
       "    </tr>\n",
       "  </tbody>\n",
       "</table>\n",
       "</div>"
      ],
      "text/plain": [
       "   carat        cut color clarity  depth  table     x     y     z  price\n",
       "0   1.52    Premium     F     VS2   62.2   58.0  7.27  7.33  4.55  13619\n",
       "1   2.03  Very Good     J     SI2   62.0   58.0  8.06  8.12  5.05  13387\n",
       "2   0.70      Ideal     G     VS1   61.2   57.0  5.69  5.73  3.50   2772\n",
       "3   0.32      Ideal     G     VS1   61.6   56.0  4.38  4.41  2.71    666\n",
       "4   1.70    Premium     G     VS2   62.6   59.0  7.65  7.61  4.77  14453"
      ]
     },
     "execution_count": 5,
     "metadata": {},
     "output_type": "execute_result"
    }
   ],
   "source": [
    "data.head()"
   ]
  },
  {
   "cell_type": "code",
   "execution_count": 6,
   "metadata": {},
   "outputs": [],
   "source": [
    "#independent and dependent features\n",
    "\n",
    "X = data.drop(labels=[\"price\"], axis=1)\n",
    "Y = data[[\"price\"]]"
   ]
  },
  {
   "cell_type": "code",
   "execution_count": 7,
   "metadata": {},
   "outputs": [],
   "source": [
    "#define which column should be ordinal encoded and which one should be scaled\n",
    "\n",
    "categorical_cols = X.select_dtypes(include=\"object\").columns.tolist()\n",
    "numerical_cols = X.select_dtypes(exclude=\"object\").columns.tolist()"
   ]
  },
  {
   "cell_type": "code",
   "execution_count": 8,
   "metadata": {},
   "outputs": [
    {
     "data": {
      "text/plain": [
       "(['cut', 'color', 'clarity'], ['carat', 'depth', 'table', 'x', 'y', 'z'])"
      ]
     },
     "execution_count": 8,
     "metadata": {},
     "output_type": "execute_result"
    }
   ],
   "source": [
    "categorical_cols, numerical_cols"
   ]
  },
  {
   "cell_type": "code",
   "execution_count": 9,
   "metadata": {},
   "outputs": [],
   "source": [
    "#define the custom ranking for each ordinal variable\n",
    "\n",
    "cut_categories = [\"Fair\", \"Good\", \"Very Good\", \"Premium\", \"Ideal\"]\n",
    "color_categories = [\"D\", \"E\", \"F\", \"G\", \"H\", \"I\", \"J\"]\n",
    "clarity_categories = [\"I1\", \"SI2\", \"SI1\", \"VS2\", \"VS1\", \"VVS2\", \"VVS1\", \"IF\"]"
   ]
  },
  {
   "cell_type": "code",
   "execution_count": 10,
   "metadata": {},
   "outputs": [],
   "source": [
    "from sklearn.impute import SimpleImputer  #Handling missing values\n",
    "from sklearn.preprocessing import StandardScaler #Handling feature scaling\n",
    "from sklearn.preprocessing import OrdinalEncoder #Ordinal Encoding\n",
    "#pipelines\n",
    "from sklearn.pipeline import Pipeline\n",
    "from sklearn.compose import ColumnTransformer"
   ]
  },
  {
   "cell_type": "code",
   "execution_count": 11,
   "metadata": {},
   "outputs": [],
   "source": [
    "#numerical pipeline\n",
    "\n",
    "num_pipeline = Pipeline(\n",
    "    steps=[\n",
    "        (\"imputer\", SimpleImputer(strategy=\"median\")),\n",
    "        (\"scaler\", StandardScaler())\n",
    "    ]\n",
    ")\n",
    "\n",
    "#categorical pipeline\n",
    "\n",
    "cat_pipeline = Pipeline(\n",
    "    steps=[\n",
    "        (\"imputer\", SimpleImputer(strategy=\"most_frequent\")),\n",
    "        (\"ordinalencoder\", OrdinalEncoder(categories=[cut_categories, color_categories, clarity_categories])),\n",
    "        (\"Scaler\", StandardScaler())\n",
    "    ]\n",
    ")\n",
    "\n",
    "preprocessor = ColumnTransformer(\n",
    "    [\n",
    "        (\"num_pipeline\", num_pipeline, numerical_cols),\n",
    "        (\"cat_pipeline\", cat_pipeline, categorical_cols)\n",
    "    ]\n",
    ")"
   ]
  },
  {
   "cell_type": "code",
   "execution_count": 12,
   "metadata": {},
   "outputs": [],
   "source": [
    "#Train test split\n",
    "\n",
    "from sklearn.model_selection import train_test_split\n",
    "\n",
    "X_train, X_test, Y_train, Y_test = train_test_split(X, Y, test_size=0.30, random_state=30)"
   ]
  },
  {
   "cell_type": "code",
   "execution_count": 13,
   "metadata": {},
   "outputs": [
    {
     "data": {
      "text/plain": [
       "array([[-0.97543926, -0.84960654, -0.12153081, ...,  0.87407553,\n",
       "         1.52872212,  1.35273128],\n",
       "       [ 0.2351953 ,  1.83363716, -0.12153081, ..., -2.14455824,\n",
       "        -0.93507064, -0.64678628],\n",
       "       [ 0.49461699,  0.81585507,  0.39980029, ..., -0.13213573,\n",
       "         0.29682574,  0.68622543],\n",
       "       ...,\n",
       "       [ 0.45138004,  1.55606023, -0.6428619 , ..., -2.14455824,\n",
       "         0.29682574, -0.64678628],\n",
       "       [ 0.66756478, -1.77486298,  1.44246248, ...,  0.87407553,\n",
       "         0.29682574,  0.68622543],\n",
       "       [ 0.25681377,  0.81585507, -0.12153081, ...,  0.87407553,\n",
       "         0.29682574, -0.64678628]])"
      ]
     },
     "execution_count": 13,
     "metadata": {},
     "output_type": "execute_result"
    }
   ],
   "source": [
    "preprocessor.fit_transform(X_train)"
   ]
  },
  {
   "cell_type": "code",
   "execution_count": 14,
   "metadata": {},
   "outputs": [],
   "source": [
    "X_train = pd.DataFrame(preprocessor.fit_transform(X_train), columns=numerical_cols+categorical_cols)\n"
   ]
  },
  {
   "cell_type": "code",
   "execution_count": 15,
   "metadata": {},
   "outputs": [
    {
     "data": {
      "text/html": [
       "<div>\n",
       "<style scoped>\n",
       "    .dataframe tbody tr th:only-of-type {\n",
       "        vertical-align: middle;\n",
       "    }\n",
       "\n",
       "    .dataframe tbody tr th {\n",
       "        vertical-align: top;\n",
       "    }\n",
       "\n",
       "    .dataframe thead th {\n",
       "        text-align: right;\n",
       "    }\n",
       "</style>\n",
       "<table border=\"1\" class=\"dataframe\">\n",
       "  <thead>\n",
       "    <tr style=\"text-align: right;\">\n",
       "      <th></th>\n",
       "      <th>carat</th>\n",
       "      <th>depth</th>\n",
       "      <th>table</th>\n",
       "      <th>x</th>\n",
       "      <th>y</th>\n",
       "      <th>z</th>\n",
       "      <th>cut</th>\n",
       "      <th>color</th>\n",
       "      <th>clarity</th>\n",
       "    </tr>\n",
       "  </thead>\n",
       "  <tbody>\n",
       "    <tr>\n",
       "      <th>0</th>\n",
       "      <td>-0.975439</td>\n",
       "      <td>-0.849607</td>\n",
       "      <td>-0.121531</td>\n",
       "      <td>-1.042757</td>\n",
       "      <td>-1.080970</td>\n",
       "      <td>-1.123150</td>\n",
       "      <td>0.874076</td>\n",
       "      <td>1.528722</td>\n",
       "      <td>1.352731</td>\n",
       "    </tr>\n",
       "    <tr>\n",
       "      <th>1</th>\n",
       "      <td>0.235195</td>\n",
       "      <td>1.833637</td>\n",
       "      <td>-0.121531</td>\n",
       "      <td>0.318447</td>\n",
       "      <td>0.279859</td>\n",
       "      <td>0.485354</td>\n",
       "      <td>-2.144558</td>\n",
       "      <td>-0.935071</td>\n",
       "      <td>-0.646786</td>\n",
       "    </tr>\n",
       "    <tr>\n",
       "      <th>2</th>\n",
       "      <td>0.494617</td>\n",
       "      <td>0.815855</td>\n",
       "      <td>0.399800</td>\n",
       "      <td>0.570855</td>\n",
       "      <td>0.606458</td>\n",
       "      <td>0.673737</td>\n",
       "      <td>-0.132136</td>\n",
       "      <td>0.296826</td>\n",
       "      <td>0.686225</td>\n",
       "    </tr>\n",
       "    <tr>\n",
       "      <th>3</th>\n",
       "      <td>-1.018676</td>\n",
       "      <td>0.260701</td>\n",
       "      <td>0.921131</td>\n",
       "      <td>-1.214034</td>\n",
       "      <td>-1.244270</td>\n",
       "      <td>-1.195605</td>\n",
       "      <td>-0.132136</td>\n",
       "      <td>0.296826</td>\n",
       "      <td>0.019720</td>\n",
       "    </tr>\n",
       "    <tr>\n",
       "      <th>4</th>\n",
       "      <td>-0.953821</td>\n",
       "      <td>-0.664555</td>\n",
       "      <td>-0.642862</td>\n",
       "      <td>-1.069801</td>\n",
       "      <td>-1.044681</td>\n",
       "      <td>-1.094168</td>\n",
       "      <td>0.874076</td>\n",
       "      <td>2.144670</td>\n",
       "      <td>1.352731</td>\n",
       "    </tr>\n",
       "    <tr>\n",
       "      <th>...</th>\n",
       "      <td>...</td>\n",
       "      <td>...</td>\n",
       "      <td>...</td>\n",
       "      <td>...</td>\n",
       "      <td>...</td>\n",
       "      <td>...</td>\n",
       "      <td>...</td>\n",
       "      <td>...</td>\n",
       "      <td>...</td>\n",
       "    </tr>\n",
       "    <tr>\n",
       "      <th>135496</th>\n",
       "      <td>-1.040295</td>\n",
       "      <td>-0.016876</td>\n",
       "      <td>-0.642862</td>\n",
       "      <td>-1.268122</td>\n",
       "      <td>-1.244270</td>\n",
       "      <td>-1.239078</td>\n",
       "      <td>0.874076</td>\n",
       "      <td>-0.935071</td>\n",
       "      <td>-0.646786</td>\n",
       "    </tr>\n",
       "    <tr>\n",
       "      <th>135497</th>\n",
       "      <td>0.991842</td>\n",
       "      <td>0.168176</td>\n",
       "      <td>-0.642862</td>\n",
       "      <td>1.048629</td>\n",
       "      <td>1.114501</td>\n",
       "      <td>1.079486</td>\n",
       "      <td>0.874076</td>\n",
       "      <td>0.296826</td>\n",
       "      <td>-1.313292</td>\n",
       "    </tr>\n",
       "    <tr>\n",
       "      <th>135498</th>\n",
       "      <td>0.451380</td>\n",
       "      <td>1.556060</td>\n",
       "      <td>-0.642862</td>\n",
       "      <td>0.516768</td>\n",
       "      <td>0.588314</td>\n",
       "      <td>0.702719</td>\n",
       "      <td>-2.144558</td>\n",
       "      <td>0.296826</td>\n",
       "      <td>-0.646786</td>\n",
       "    </tr>\n",
       "    <tr>\n",
       "      <th>135499</th>\n",
       "      <td>0.667565</td>\n",
       "      <td>-1.774863</td>\n",
       "      <td>1.442462</td>\n",
       "      <td>0.868337</td>\n",
       "      <td>0.951202</td>\n",
       "      <td>0.688228</td>\n",
       "      <td>0.874076</td>\n",
       "      <td>0.296826</td>\n",
       "      <td>0.686225</td>\n",
       "    </tr>\n",
       "    <tr>\n",
       "      <th>135500</th>\n",
       "      <td>0.256814</td>\n",
       "      <td>0.815855</td>\n",
       "      <td>-0.121531</td>\n",
       "      <td>0.381549</td>\n",
       "      <td>0.415942</td>\n",
       "      <td>0.470863</td>\n",
       "      <td>0.874076</td>\n",
       "      <td>0.296826</td>\n",
       "      <td>-0.646786</td>\n",
       "    </tr>\n",
       "  </tbody>\n",
       "</table>\n",
       "<p>135501 rows × 9 columns</p>\n",
       "</div>"
      ],
      "text/plain": [
       "           carat     depth     table         x         y         z       cut  \\\n",
       "0      -0.975439 -0.849607 -0.121531 -1.042757 -1.080970 -1.123150  0.874076   \n",
       "1       0.235195  1.833637 -0.121531  0.318447  0.279859  0.485354 -2.144558   \n",
       "2       0.494617  0.815855  0.399800  0.570855  0.606458  0.673737 -0.132136   \n",
       "3      -1.018676  0.260701  0.921131 -1.214034 -1.244270 -1.195605 -0.132136   \n",
       "4      -0.953821 -0.664555 -0.642862 -1.069801 -1.044681 -1.094168  0.874076   \n",
       "...          ...       ...       ...       ...       ...       ...       ...   \n",
       "135496 -1.040295 -0.016876 -0.642862 -1.268122 -1.244270 -1.239078  0.874076   \n",
       "135497  0.991842  0.168176 -0.642862  1.048629  1.114501  1.079486  0.874076   \n",
       "135498  0.451380  1.556060 -0.642862  0.516768  0.588314  0.702719 -2.144558   \n",
       "135499  0.667565 -1.774863  1.442462  0.868337  0.951202  0.688228  0.874076   \n",
       "135500  0.256814  0.815855 -0.121531  0.381549  0.415942  0.470863  0.874076   \n",
       "\n",
       "           color   clarity  \n",
       "0       1.528722  1.352731  \n",
       "1      -0.935071 -0.646786  \n",
       "2       0.296826  0.686225  \n",
       "3       0.296826  0.019720  \n",
       "4       2.144670  1.352731  \n",
       "...          ...       ...  \n",
       "135496 -0.935071 -0.646786  \n",
       "135497  0.296826 -1.313292  \n",
       "135498  0.296826 -0.646786  \n",
       "135499  0.296826  0.686225  \n",
       "135500  0.296826 -0.646786  \n",
       "\n",
       "[135501 rows x 9 columns]"
      ]
     },
     "execution_count": 15,
     "metadata": {},
     "output_type": "execute_result"
    }
   ],
   "source": [
    "X_train"
   ]
  },
  {
   "cell_type": "code",
   "execution_count": 16,
   "metadata": {},
   "outputs": [],
   "source": [
    "X_test = pd.DataFrame(preprocessor.transform(X_test), columns=numerical_cols+categorical_cols)"
   ]
  },
  {
   "cell_type": "code",
   "execution_count": 17,
   "metadata": {},
   "outputs": [
    {
     "data": {
      "text/html": [
       "<div>\n",
       "<style scoped>\n",
       "    .dataframe tbody tr th:only-of-type {\n",
       "        vertical-align: middle;\n",
       "    }\n",
       "\n",
       "    .dataframe tbody tr th {\n",
       "        vertical-align: top;\n",
       "    }\n",
       "\n",
       "    .dataframe thead th {\n",
       "        text-align: right;\n",
       "    }\n",
       "</style>\n",
       "<table border=\"1\" class=\"dataframe\">\n",
       "  <thead>\n",
       "    <tr style=\"text-align: right;\">\n",
       "      <th></th>\n",
       "      <th>carat</th>\n",
       "      <th>depth</th>\n",
       "      <th>table</th>\n",
       "      <th>x</th>\n",
       "      <th>y</th>\n",
       "      <th>z</th>\n",
       "      <th>cut</th>\n",
       "      <th>color</th>\n",
       "      <th>clarity</th>\n",
       "    </tr>\n",
       "  </thead>\n",
       "  <tbody>\n",
       "    <tr>\n",
       "      <th>0</th>\n",
       "      <td>-0.564688</td>\n",
       "      <td>-0.942132</td>\n",
       "      <td>-0.642862</td>\n",
       "      <td>-0.429765</td>\n",
       "      <td>-0.464061</td>\n",
       "      <td>-0.500036</td>\n",
       "      <td>-0.132136</td>\n",
       "      <td>-0.935071</td>\n",
       "      <td>0.019720</td>\n",
       "    </tr>\n",
       "    <tr>\n",
       "      <th>1</th>\n",
       "      <td>-0.175556</td>\n",
       "      <td>1.000906</td>\n",
       "      <td>-0.121531</td>\n",
       "      <td>-0.042137</td>\n",
       "      <td>-0.028595</td>\n",
       "      <td>0.036132</td>\n",
       "      <td>-1.138347</td>\n",
       "      <td>0.912774</td>\n",
       "      <td>-0.646786</td>\n",
       "    </tr>\n",
       "    <tr>\n",
       "      <th>2</th>\n",
       "      <td>-1.061913</td>\n",
       "      <td>0.260701</td>\n",
       "      <td>-0.121531</td>\n",
       "      <td>-1.304180</td>\n",
       "      <td>-1.298703</td>\n",
       "      <td>-1.268060</td>\n",
       "      <td>0.874076</td>\n",
       "      <td>0.912774</td>\n",
       "      <td>2.685743</td>\n",
       "    </tr>\n",
       "    <tr>\n",
       "      <th>3</th>\n",
       "      <td>0.970223</td>\n",
       "      <td>-0.201927</td>\n",
       "      <td>1.963794</td>\n",
       "      <td>1.048629</td>\n",
       "      <td>0.996563</td>\n",
       "      <td>0.978049</td>\n",
       "      <td>-0.132136</td>\n",
       "      <td>0.296826</td>\n",
       "      <td>0.019720</td>\n",
       "    </tr>\n",
       "    <tr>\n",
       "      <th>4</th>\n",
       "      <td>-0.932202</td>\n",
       "      <td>-1.312235</td>\n",
       "      <td>0.399800</td>\n",
       "      <td>-1.006699</td>\n",
       "      <td>-0.990248</td>\n",
       "      <td>-1.065186</td>\n",
       "      <td>-0.132136</td>\n",
       "      <td>-0.935071</td>\n",
       "      <td>0.686225</td>\n",
       "    </tr>\n",
       "    <tr>\n",
       "      <th>...</th>\n",
       "      <td>...</td>\n",
       "      <td>...</td>\n",
       "      <td>...</td>\n",
       "      <td>...</td>\n",
       "      <td>...</td>\n",
       "      <td>...</td>\n",
       "      <td>...</td>\n",
       "      <td>...</td>\n",
       "      <td>...</td>\n",
       "    </tr>\n",
       "    <tr>\n",
       "      <th>58067</th>\n",
       "      <td>1.013460</td>\n",
       "      <td>1.185958</td>\n",
       "      <td>-0.642862</td>\n",
       "      <td>1.003556</td>\n",
       "      <td>1.041924</td>\n",
       "      <td>1.151941</td>\n",
       "      <td>-1.138347</td>\n",
       "      <td>0.912774</td>\n",
       "      <td>0.019720</td>\n",
       "    </tr>\n",
       "    <tr>\n",
       "      <th>58068</th>\n",
       "      <td>-0.997058</td>\n",
       "      <td>0.260701</td>\n",
       "      <td>-1.164193</td>\n",
       "      <td>-1.141917</td>\n",
       "      <td>-1.126331</td>\n",
       "      <td>-1.108659</td>\n",
       "      <td>0.874076</td>\n",
       "      <td>-0.319122</td>\n",
       "      <td>2.019237</td>\n",
       "    </tr>\n",
       "    <tr>\n",
       "      <th>58069</th>\n",
       "      <td>-0.197174</td>\n",
       "      <td>-3.347799</td>\n",
       "      <td>1.442462</td>\n",
       "      <td>0.102096</td>\n",
       "      <td>0.071199</td>\n",
       "      <td>-0.224706</td>\n",
       "      <td>-0.132136</td>\n",
       "      <td>2.144670</td>\n",
       "      <td>0.019720</td>\n",
       "    </tr>\n",
       "    <tr>\n",
       "      <th>58070</th>\n",
       "      <td>-0.824110</td>\n",
       "      <td>-0.201927</td>\n",
       "      <td>-0.121531</td>\n",
       "      <td>-0.853450</td>\n",
       "      <td>-0.881382</td>\n",
       "      <td>-0.876803</td>\n",
       "      <td>0.874076</td>\n",
       "      <td>0.296826</td>\n",
       "      <td>-0.646786</td>\n",
       "    </tr>\n",
       "    <tr>\n",
       "      <th>58071</th>\n",
       "      <td>2.613227</td>\n",
       "      <td>-0.757081</td>\n",
       "      <td>1.442462</td>\n",
       "      <td>2.139394</td>\n",
       "      <td>2.039865</td>\n",
       "      <td>2.006912</td>\n",
       "      <td>-0.132136</td>\n",
       "      <td>2.144670</td>\n",
       "      <td>0.019720</td>\n",
       "    </tr>\n",
       "  </tbody>\n",
       "</table>\n",
       "<p>58072 rows × 9 columns</p>\n",
       "</div>"
      ],
      "text/plain": [
       "          carat     depth     table         x         y         z       cut  \\\n",
       "0     -0.564688 -0.942132 -0.642862 -0.429765 -0.464061 -0.500036 -0.132136   \n",
       "1     -0.175556  1.000906 -0.121531 -0.042137 -0.028595  0.036132 -1.138347   \n",
       "2     -1.061913  0.260701 -0.121531 -1.304180 -1.298703 -1.268060  0.874076   \n",
       "3      0.970223 -0.201927  1.963794  1.048629  0.996563  0.978049 -0.132136   \n",
       "4     -0.932202 -1.312235  0.399800 -1.006699 -0.990248 -1.065186 -0.132136   \n",
       "...         ...       ...       ...       ...       ...       ...       ...   \n",
       "58067  1.013460  1.185958 -0.642862  1.003556  1.041924  1.151941 -1.138347   \n",
       "58068 -0.997058  0.260701 -1.164193 -1.141917 -1.126331 -1.108659  0.874076   \n",
       "58069 -0.197174 -3.347799  1.442462  0.102096  0.071199 -0.224706 -0.132136   \n",
       "58070 -0.824110 -0.201927 -0.121531 -0.853450 -0.881382 -0.876803  0.874076   \n",
       "58071  2.613227 -0.757081  1.442462  2.139394  2.039865  2.006912 -0.132136   \n",
       "\n",
       "          color   clarity  \n",
       "0     -0.935071  0.019720  \n",
       "1      0.912774 -0.646786  \n",
       "2      0.912774  2.685743  \n",
       "3      0.296826  0.019720  \n",
       "4     -0.935071  0.686225  \n",
       "...         ...       ...  \n",
       "58067  0.912774  0.019720  \n",
       "58068 -0.319122  2.019237  \n",
       "58069  2.144670  0.019720  \n",
       "58070  0.296826 -0.646786  \n",
       "58071  2.144670  0.019720  \n",
       "\n",
       "[58072 rows x 9 columns]"
      ]
     },
     "execution_count": 17,
     "metadata": {},
     "output_type": "execute_result"
    }
   ],
   "source": [
    "X_test"
   ]
  },
  {
   "cell_type": "code",
   "execution_count": 18,
   "metadata": {},
   "outputs": [],
   "source": [
    "from sklearn.linear_model import LinearRegression, Lasso, Ridge, ElasticNet\n",
    "from sklearn.metrics import mean_absolute_error, mean_squared_error, r2_score"
   ]
  },
  {
   "cell_type": "code",
   "execution_count": 19,
   "metadata": {},
   "outputs": [],
   "source": [
    "regression = LinearRegression()"
   ]
  },
  {
   "cell_type": "code",
   "execution_count": 20,
   "metadata": {},
   "outputs": [
    {
     "data": {
      "text/plain": [
       "LinearRegression()"
      ]
     },
     "execution_count": 20,
     "metadata": {},
     "output_type": "execute_result"
    }
   ],
   "source": [
    "regression.fit(X_train, Y_train)"
   ]
  },
  {
   "cell_type": "code",
   "execution_count": 21,
   "metadata": {},
   "outputs": [
    {
     "data": {
      "text/plain": [
       "array([[ 6433.66003594,  -132.75843566,   -70.42922179, -1720.30971463,\n",
       "         -499.29302619,   -63.39317848,    72.44537247,  -460.41604642,\n",
       "          650.76431652]])"
      ]
     },
     "execution_count": 21,
     "metadata": {},
     "output_type": "execute_result"
    }
   ],
   "source": [
    "regression.coef_"
   ]
  },
  {
   "cell_type": "code",
   "execution_count": 22,
   "metadata": {},
   "outputs": [
    {
     "data": {
      "text/plain": [
       "array([3970.76628955])"
      ]
     },
     "execution_count": 22,
     "metadata": {},
     "output_type": "execute_result"
    }
   ],
   "source": [
    "regression.intercept_"
   ]
  },
  {
   "cell_type": "code",
   "execution_count": 23,
   "metadata": {},
   "outputs": [],
   "source": [
    "y_predict = regression.predict(X_test)"
   ]
  },
  {
   "cell_type": "code",
   "execution_count": 24,
   "metadata": {},
   "outputs": [
    {
     "data": {
      "text/plain": [
       "1028002.7598132562"
      ]
     },
     "execution_count": 24,
     "metadata": {},
     "output_type": "execute_result"
    }
   ],
   "source": [
    "mean_squared_error(Y_test, y_predict)"
   ]
  },
  {
   "cell_type": "code",
   "execution_count": 25,
   "metadata": {},
   "outputs": [
    {
     "data": {
      "text/plain": [
       "0.9368908248567511"
      ]
     },
     "execution_count": 25,
     "metadata": {},
     "output_type": "execute_result"
    }
   ],
   "source": [
    "r2_score(Y_test, y_predict)"
   ]
  },
  {
   "cell_type": "code",
   "execution_count": 26,
   "metadata": {},
   "outputs": [],
   "source": [
    "import numpy as np"
   ]
  },
  {
   "cell_type": "code",
   "execution_count": 29,
   "metadata": {},
   "outputs": [],
   "source": [
    "def evaluate_model(true, predicted):\n",
    "    mae = mean_absolute_error(true, predicted)\n",
    "    rmse = np.sqrt(mean_squared_error(true, predicted))\n",
    "    R2_score = r2_score(true, predicted)\n",
    "    return mae, rmse, R2_score"
   ]
  },
  {
   "cell_type": "code",
   "execution_count": null,
   "metadata": {},
   "outputs": [],
   "source": []
  },
  {
   "cell_type": "code",
   "execution_count": 34,
   "metadata": {},
   "outputs": [
    {
     "name": "stdout",
     "output_type": "stream",
     "text": [
      "LinearRegression\n",
      "Model Training Performance\n",
      "RMSE :  1013.9047094344005\n",
      "MAE :  674.0255115796832\n",
      "R2_score : 93.68908248567512%\n",
      "==============================\n",
      "\n",
      "\n",
      "Lasso\n",
      "Model Training Performance\n",
      "RMSE :  1013.8784226767013\n",
      "MAE :  675.0716923362158\n",
      "R2_score : 93.68940971841704%\n",
      "==============================\n",
      "\n",
      "\n",
      "Ridge\n",
      "Model Training Performance\n",
      "RMSE :  1013.9059272771653\n",
      "MAE :  674.0555800798319\n",
      "R2_score : 93.68906732505937%\n",
      "==============================\n",
      "\n",
      "\n",
      "ElasticNet\n",
      "Model Training Performance\n",
      "RMSE :  1533.4162456064046\n",
      "MAE :  1060.7368759154729\n",
      "R2_score : 85.56494831165182%\n",
      "==============================\n",
      "\n",
      "\n"
     ]
    }
   ],
   "source": [
    "##train multiple models\n",
    "\n",
    "models = {\n",
    "    \"LinearRegression\":LinearRegression(),\n",
    "    \"Lasso\":Lasso(),\n",
    "    \"Ridge\":Ridge(),\n",
    "    \"ElasticNet\":ElasticNet()\n",
    "}\n",
    "\n",
    "model_list = []\n",
    "r2_list = []\n",
    "\n",
    "for i in range(len(list(models))):\n",
    "    model = list(models.values())[i]\n",
    "    model.fit(X_train, Y_train)\n",
    "\n",
    "\n",
    "    #make predictions\n",
    "    y_pred = model.predict(X_test)\n",
    "\n",
    "    mae, rmse, R2_score = evaluate_model(Y_test, y_pred)\n",
    "    print(list(models.keys())[i])\n",
    "    model_list.append(list(models.keys())[i])\n",
    "    r2_list.append(R2_score)\n",
    "    \n",
    "\n",
    "    print(\"Model Training Performance\")\n",
    "    print(\"RMSE : \", rmse)\n",
    "    print(\"MAE : \", mae)\n",
    "    print(f\"R2_score : {R2_score*100}%\")\n",
    "    print(\"=\"*30)\n",
    "    print(\"\\n\")"
   ]
  },
  {
   "cell_type": "code",
   "execution_count": 1,
   "metadata": {},
   "outputs": [
    {
     "data": {
      "text/plain": "        Unnamed: 0   index      id  carat        cut color clarity  depth  \\\n0                0       0       0   1.52    Premium     F     VS2   62.2   \n1                1       1       1   2.03  Very Good     J     SI2   62.0   \n2                2       2       2   0.70      Ideal     G     VS1   61.2   \n3                3       3       3   0.32      Ideal     G     VS1   61.6   \n4                4       4       4   1.70    Premium     G     VS2   62.6   \n...            ...     ...     ...    ...        ...   ...     ...    ...   \n193568      193568  193568  193568   0.31      Ideal     D    VVS2   61.1   \n193569      193569  193569  193569   0.70    Premium     G    VVS2   60.3   \n193570      193570  193570  193570   0.73  Very Good     F     SI1   63.1   \n193571      193571  193571  193571   0.34  Very Good     D     SI1   62.9   \n193572      193572  193572  193572   0.71       Good     E     SI2   60.8   \n\n        table     x     y     z  price  \n0        58.0  7.27  7.33  4.55  13619  \n1        58.0  8.06  8.12  5.05  13387  \n2        57.0  5.69  5.73  3.50   2772  \n3        56.0  4.38  4.41  2.71    666  \n4        59.0  7.65  7.61  4.77  14453  \n...       ...   ...   ...   ...    ...  \n193568   56.0  4.35  4.39  2.67   1130  \n193569   58.0  5.75  5.77  3.47   2874  \n193570   57.0  5.72  5.75  3.62   3036  \n193571   55.0  4.45  4.49  2.81    681  \n193572   64.0  5.73  5.71  3.48   2258  \n\n[193573 rows x 13 columns]",
      "text/html": "<div>\n<style scoped>\n    .dataframe tbody tr th:only-of-type {\n        vertical-align: middle;\n    }\n\n    .dataframe tbody tr th {\n        vertical-align: top;\n    }\n\n    .dataframe thead th {\n        text-align: right;\n    }\n</style>\n<table border=\"1\" class=\"dataframe\">\n  <thead>\n    <tr style=\"text-align: right;\">\n      <th></th>\n      <th>Unnamed: 0</th>\n      <th>index</th>\n      <th>id</th>\n      <th>carat</th>\n      <th>cut</th>\n      <th>color</th>\n      <th>clarity</th>\n      <th>depth</th>\n      <th>table</th>\n      <th>x</th>\n      <th>y</th>\n      <th>z</th>\n      <th>price</th>\n    </tr>\n  </thead>\n  <tbody>\n    <tr>\n      <th>0</th>\n      <td>0</td>\n      <td>0</td>\n      <td>0</td>\n      <td>1.52</td>\n      <td>Premium</td>\n      <td>F</td>\n      <td>VS2</td>\n      <td>62.2</td>\n      <td>58.0</td>\n      <td>7.27</td>\n      <td>7.33</td>\n      <td>4.55</td>\n      <td>13619</td>\n    </tr>\n    <tr>\n      <th>1</th>\n      <td>1</td>\n      <td>1</td>\n      <td>1</td>\n      <td>2.03</td>\n      <td>Very Good</td>\n      <td>J</td>\n      <td>SI2</td>\n      <td>62.0</td>\n      <td>58.0</td>\n      <td>8.06</td>\n      <td>8.12</td>\n      <td>5.05</td>\n      <td>13387</td>\n    </tr>\n    <tr>\n      <th>2</th>\n      <td>2</td>\n      <td>2</td>\n      <td>2</td>\n      <td>0.70</td>\n      <td>Ideal</td>\n      <td>G</td>\n      <td>VS1</td>\n      <td>61.2</td>\n      <td>57.0</td>\n      <td>5.69</td>\n      <td>5.73</td>\n      <td>3.50</td>\n      <td>2772</td>\n    </tr>\n    <tr>\n      <th>3</th>\n      <td>3</td>\n      <td>3</td>\n      <td>3</td>\n      <td>0.32</td>\n      <td>Ideal</td>\n      <td>G</td>\n      <td>VS1</td>\n      <td>61.6</td>\n      <td>56.0</td>\n      <td>4.38</td>\n      <td>4.41</td>\n      <td>2.71</td>\n      <td>666</td>\n    </tr>\n    <tr>\n      <th>4</th>\n      <td>4</td>\n      <td>4</td>\n      <td>4</td>\n      <td>1.70</td>\n      <td>Premium</td>\n      <td>G</td>\n      <td>VS2</td>\n      <td>62.6</td>\n      <td>59.0</td>\n      <td>7.65</td>\n      <td>7.61</td>\n      <td>4.77</td>\n      <td>14453</td>\n    </tr>\n    <tr>\n      <th>...</th>\n      <td>...</td>\n      <td>...</td>\n      <td>...</td>\n      <td>...</td>\n      <td>...</td>\n      <td>...</td>\n      <td>...</td>\n      <td>...</td>\n      <td>...</td>\n      <td>...</td>\n      <td>...</td>\n      <td>...</td>\n      <td>...</td>\n    </tr>\n    <tr>\n      <th>193568</th>\n      <td>193568</td>\n      <td>193568</td>\n      <td>193568</td>\n      <td>0.31</td>\n      <td>Ideal</td>\n      <td>D</td>\n      <td>VVS2</td>\n      <td>61.1</td>\n      <td>56.0</td>\n      <td>4.35</td>\n      <td>4.39</td>\n      <td>2.67</td>\n      <td>1130</td>\n    </tr>\n    <tr>\n      <th>193569</th>\n      <td>193569</td>\n      <td>193569</td>\n      <td>193569</td>\n      <td>0.70</td>\n      <td>Premium</td>\n      <td>G</td>\n      <td>VVS2</td>\n      <td>60.3</td>\n      <td>58.0</td>\n      <td>5.75</td>\n      <td>5.77</td>\n      <td>3.47</td>\n      <td>2874</td>\n    </tr>\n    <tr>\n      <th>193570</th>\n      <td>193570</td>\n      <td>193570</td>\n      <td>193570</td>\n      <td>0.73</td>\n      <td>Very Good</td>\n      <td>F</td>\n      <td>SI1</td>\n      <td>63.1</td>\n      <td>57.0</td>\n      <td>5.72</td>\n      <td>5.75</td>\n      <td>3.62</td>\n      <td>3036</td>\n    </tr>\n    <tr>\n      <th>193571</th>\n      <td>193571</td>\n      <td>193571</td>\n      <td>193571</td>\n      <td>0.34</td>\n      <td>Very Good</td>\n      <td>D</td>\n      <td>SI1</td>\n      <td>62.9</td>\n      <td>55.0</td>\n      <td>4.45</td>\n      <td>4.49</td>\n      <td>2.81</td>\n      <td>681</td>\n    </tr>\n    <tr>\n      <th>193572</th>\n      <td>193572</td>\n      <td>193572</td>\n      <td>193572</td>\n      <td>0.71</td>\n      <td>Good</td>\n      <td>E</td>\n      <td>SI2</td>\n      <td>60.8</td>\n      <td>64.0</td>\n      <td>5.73</td>\n      <td>5.71</td>\n      <td>3.48</td>\n      <td>2258</td>\n    </tr>\n  </tbody>\n</table>\n<p>193573 rows × 13 columns</p>\n</div>"
     },
     "execution_count": 1,
     "metadata": {},
     "output_type": "execute_result"
    }
   ],
   "source": [
    "import pandas as pd\n",
    "pd.read_csv(\"gemstone.csv\")"
   ]
  },
  {
   "cell_type": "code",
   "execution_count": null,
   "metadata": {},
   "outputs": [],
   "source": []
  }
 ],
 "metadata": {
  "kernelspec": {
   "display_name": "base",
   "language": "python",
   "name": "python3"
  },
  "language_info": {
   "codemirror_mode": {
    "name": "ipython",
    "version": 3
   },
   "file_extension": ".py",
   "mimetype": "text/x-python",
   "name": "python",
   "nbconvert_exporter": "python",
   "pygments_lexer": "ipython3",
   "version": "3.9.12"
  },
  "orig_nbformat": 4
 },
 "nbformat": 4,
 "nbformat_minor": 2
}
